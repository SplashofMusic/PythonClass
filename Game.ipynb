{
 "cells": [
  {
   "cell_type": "code",
   "execution_count": null,
   "metadata": {},
   "outputs": [],
   "source": [
    "board = []\n",
    "\n",
    "for r in range(3):\n",
    "    row = []\n",
    "    for c in range (3):\n",
    "        row.append(\".\")\n",
    "    board.append(row)\n",
    "    \n",
    "def take_int(prompt):\n",
    "    num = -1\n",
    "    try: \n",
    "        num = int(raw_input(prompt))\n",
    "    except ValueError:\n",
    "        print 'Please enter a number instead of a letter.'\n",
    "    \n",
    "    return num\n",
    "    \n",
    "take_int(\"Which Row: \")\n",
    "                  \n",
    "def print_board(board):\n",
    "    for row in board:\n",
    "        print \" \".join(row)\n",
    "\n",
    "\n",
    "print_board(board)\n",
    "\n",
    "won = False\n",
    "player = \"X\"\n",
    "def check_game(board):\n",
    "    for i in range(3):   \n",
    "        if board[i][0] == board[i][1] and board[i][0] == board[i][2] and board[i][0] != \".\":\n",
    "            return True\n",
    "    for i in range(3):\n",
    "        if board[0][i] == board[1][i] and board[0][i] == board[2][i] and board[0][i] != \".\":\n",
    "            return True\n",
    "    if board[0][0] == board[1][1] and board[1][1] == board[2][2] and board[0][0] != \".\":\n",
    "            return True\n",
    "    if board[0][2] == board[1][1] and board[1][1] == board[2][0] and board[0][2] != \".\":\n",
    "            return True\n",
    "        \n",
    "    return False\n",
    "\n",
    "print_board(board)\n",
    "while won == False:\n",
    "    # row = int(raw_input(\"Which row: \"))\n",
    "    # col = int(raw_input(\"Which col: \"))\\\n",
    "    row = -1\n",
    "    while row ==-1:\n",
    "        row = take_int('Which row: ')\n",
    "    col = -1\n",
    "    while col ==-1:\n",
    "        col = take_int('Which column: ')\n",
    "    print row, col\n",
    "    if row < 3 and col < 3:\n",
    "        board[row][col] = player\n",
    "        print_board(board)\n",
    "        if check_game(board) == False:\n",
    "            if player == \"X\":\n",
    "                player = \"O\"\n",
    "            else:\n",
    "                player = \"X\"\n",
    "        else:\n",
    "            print \"Player \", player, \" won!\"\n",
    "            won = True\n",
    "            break\n",
    "            "
   ]
  },
  {
   "cell_type": "code",
   "execution_count": null,
   "metadata": {
    "collapsed": true
   },
   "outputs": [],
   "source": [
    "def take_int(prompt):\n",
    "    try: \n",
    "        row = int(raw_input(prompt))\n",
    "    except ValueError:\n",
    "        row = int(row = int(raw_input('Please enter a number.'))\n",
    "        \n",
    "    return row\n",
    "    \n",
    "take_int(\"Which Row: \")"
   ]
  },
  {
   "cell_type": "code",
   "execution_count": null,
   "metadata": {},
   "outputs": [],
   "source": [
    "def take_int(prompt):\n",
    "    num = -1\n",
    "    try: \n",
    "        num = int(raw_input(prompt))\n",
    "    except ValueError:\n",
    "        print 'Please enter a number instead of a letter.'\n",
    "    \n",
    "    return num\n",
    "\n",
    "num = -1\n",
    "while num ==-1:\n",
    "    num = take_int('Which row: ')"
   ]
  },
  {
   "cell_type": "code",
   "execution_count": 2,
   "metadata": {},
   "outputs": [
    {
     "name": "stdout",
     "output_type": "stream",
     "text": [
      "[(0, 0), (1, 1), (2, 4), (3, 9), (4, 16)]\n"
     ]
    }
   ],
   "source": [
    "print [(x,x*x) for x in range(5)]"
   ]
  },
  {
   "cell_type": "code",
   "execution_count": null,
   "metadata": {
    "collapsed": true
   },
   "outputs": [],
   "source": []
  }
 ],
 "metadata": {
  "kernelspec": {
   "display_name": "Python 2",
   "language": "python",
   "name": "python2"
  },
  "language_info": {
   "codemirror_mode": {
    "name": "ipython",
    "version": 2
   },
   "file_extension": ".py",
   "mimetype": "text/x-python",
   "name": "python",
   "nbconvert_exporter": "python",
   "pygments_lexer": "ipython2",
   "version": "2.7.13"
  }
 },
 "nbformat": 4,
 "nbformat_minor": 2
}
