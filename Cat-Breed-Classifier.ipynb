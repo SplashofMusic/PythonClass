{
 "cells": [
  {
   "cell_type": "code",
   "execution_count": 8,
   "metadata": {},
   "outputs": [],
   "source": [
    "import tensorflow as tf\n",
    "import numpy as np\n",
    "from tensorflow.python.keras import applications\n",
    "from tensorflow.python.keras.preprocessing.image import ImageDataGenerator\n",
    "from tensorflow.python.keras.models import Model, Sequential\n",
    "from tensorflow.python.keras.layers import Flatten, Dense, Dropout"
   ]
  },
  {
   "cell_type": "code",
   "execution_count": 18,
   "metadata": {},
   "outputs": [],
   "source": [
    "#Dimensions\n",
    "img_width, img_height = 150, 150\n",
    "\n",
    "top_model_weights_path = 'bottleneck_fc_model.h5'\n",
    "train_data_dir = 'data/training'\n",
    "validation_data_dir = 'data/validation'\n",
    "nb_train_samples = 320\n",
    "nb_validation_samples = 80\n",
    "epochs = 5\n",
    "batch_size = 4\n",
    "\n",
    "def save_bottlebeck_features():\n",
    "    datagen = ImageDataGenerator(\n",
    "        rescale=1. / 255,\n",
    "        horizontal_flip=True,\n",
    "        width_shift_range=0.10,\n",
    "        rotation_range=20,)\n",
    "\n",
    "    # build the VGG16 network\n",
    "    model = applications.VGG16(include_top=False, weights='imagenet')\n",
    "\n",
    "    '''\n",
    "    generator = datagen.flow_from_directory(\n",
    "        train_data_dir,\n",
    "        target_size=(img_width, img_height),\n",
    "        batch_size=batch_size,\n",
    "        class_mode=None,\n",
    "        shuffle=False)\n",
    "    bottleneck_features_train = model.predict_generator(\n",
    "        generator, nb_train_samples // batch_size)\n",
    "    np.save(open('bottleneck_features_train.npy', 'wb'),\n",
    "            bottleneck_features_train)\n",
    "    '''\n",
    "    \n",
    "    generator = datagen.flow_from_directory(\n",
    "        validation_data_dir,\n",
    "        target_size=(img_width, img_height),\n",
    "        batch_size=batch_size,\n",
    "        class_mode=None,\n",
    "        shuffle=False)\n",
    "    bottleneck_features_validation = model.predict_generator(\n",
    "        generator, nb_validation_samples // batch_size)\n",
    "    np.save(open('bottleneck_features_validation.npy', 'wb'),\n",
    "            bottleneck_features_validation)\n"
   ]
  },
  {
   "cell_type": "code",
   "execution_count": 19,
   "metadata": {},
   "outputs": [
    {
     "name": "stdout",
     "output_type": "stream",
     "text": [
      "Found 8 images belonging to 2 classes.\n"
     ]
    }
   ],
   "source": [
    "save_bottlebeck_features()"
   ]
  },
  {
   "cell_type": "code",
   "execution_count": 11,
   "metadata": {},
   "outputs": [],
   "source": [
    "def train_top_model():\n",
    "    train_data = np.load(open('bottleneck_features_train.npy', 'rb'))\n",
    "    train_labels = np.array([0] * (int(nb_train_samples / 2)) + [1] * (int(nb_train_samples / 2)))\n",
    "\n",
    "    validation_data = np.load(open('bottleneck_features_validation.npy', 'rb'))\n",
    "    validation_labels = np.array(\n",
    "        [0] * (int(nb_validation_samples / 2)) + [1] * (int(nb_validation_samples / 2)))\n",
    "\n",
    "    model = tf.keras.models.Sequential()\n",
    "    model.add(tf.keras.layers.Flatten(input_shape=train_data.shape[1:]))\n",
    "    model.add(tf.keras.layers.Dense(256, activation='relu'))\n",
    "    model.add(tf.keras.layers.Dropout(0.5))\n",
    "    model.add(tf.keras.layers.Dense(1, activation='sigmoid'))\n",
    "\n",
    "    model.compile(optimizer='rmsprop',\n",
    "                  loss='binary_crossentropy', metrics=['accuracy'])\n",
    "\n",
    "    model.fit(train_data, train_labels,\n",
    "              epochs=epochs,\n",
    "              batch_size=batch_size,\n",
    "              validation_data=(validation_data, validation_labels))\n",
    "    model.save_weights(top_model_weights_path)\n"
   ]
  },
  {
   "cell_type": "code",
   "execution_count": 20,
   "metadata": {},
   "outputs": [
    {
     "name": "stdout",
     "output_type": "stream",
     "text": [
      "(320, 4, 4, 512)\n",
      "(80, 4, 4, 512)\n"
     ]
    }
   ],
   "source": [
    "train_data = np.load(open('bottleneck_features_train.npy', 'rb'))\n",
    "train_labels = np.array([0] * (int(nb_train_samples / 2)) + [1] * (int(nb_train_samples / 2)))\n",
    "print(train_data.shape)\n",
    "\n",
    "validation_data = np.load(open('bottleneck_features_validation.npy', 'rb'))\n",
    "print(validation_data.shape)\n",
    "validation_labels = np.array(\n",
    "        [0] * (int(nb_validation_samples / 2)) + [1] * (int(nb_validation_samples / 2)))\n"
   ]
  },
  {
   "cell_type": "code",
   "execution_count": null,
   "metadata": {},
   "outputs": [
    {
     "name": "stdout",
     "output_type": "stream",
     "text": [
      "Train on 320 samples, validate on 80 samples\n",
      "Epoch 1/30\n",
      "320/320 [==============================] - 3s - loss: 1.6753 - acc: 0.4969 - val_loss: 1.3397 - val_acc: 0.5000\n",
      "Epoch 2/30\n",
      "320/320 [==============================] - 2s - loss: 0.9554 - acc: 0.5219 - val_loss: 0.7004 - val_acc: 0.51250. - ETA: 0s - loss: 1.0229 \n",
      "Epoch 3/30\n",
      "320/320 [==============================] - 3s - loss: 0.7737 - acc: 0.5187 - val_loss: 0.7117 - val_acc: 0.4500\n",
      "Epoch 4/30\n",
      "320/320 [==============================] - 2s - loss: 0.7538 - acc: 0.5406 - val_loss: 0.6985 - val_acc: 0.5000- loss: 0.7688 - a\n",
      "Epoch 5/30\n",
      "320/320 [==============================] - 2s - loss: 0.7302 - acc: 0.5625 - val_loss: 0.7601 - val_acc: 0.5375\n",
      "Epoch 6/30\n",
      "320/320 [==============================] - 2s - loss: 0.7194 - acc: 0.5719 - val_loss: 0.7353 - val_acc: 0.4750 - loss: 0.7101 - acc:\n",
      "Epoch 7/30\n",
      "320/320 [==============================] - 2s - loss: 0.7073 - acc: 0.5594 - val_loss: 0.6956 - val_acc: 0.6000- ETA: 1s - loss: 0.7039 - acc: 0.542 - ETA: 1s - loss: 0\n",
      "Epoch 8/30\n",
      "320/320 [==============================] - 2s - loss: 0.6642 - acc: 0.6000 - val_loss: 0.7098 - val_acc: 0.5250\n",
      "Epoch 9/30\n",
      "320/320 [==============================] - 2s - loss: 0.6766 - acc: 0.6125 - val_loss: 0.7028 - val_acc: 0.5750- loss: 0.6748 - acc: \n",
      "Epoch 10/30\n",
      "320/320 [==============================] - 2s - loss: 0.6734 - acc: 0.6312 - val_loss: 0.6834 - val_acc: 0.5875\n",
      "Epoch 11/30\n",
      " 52/320 [===>..........................] - ETA: 2s - loss: 0.6304 - acc: 0.6538- ETA: 2s - loss: 0.6553 - acc: 0"
     ]
    }
   ],
   "source": [
    "epochs = 30\n",
    "train_top_model()"
   ]
  },
  {
   "cell_type": "code",
   "execution_count": null,
   "metadata": {},
   "outputs": [],
   "source": []
  }
 ],
 "metadata": {
  "kernelspec": {
   "display_name": "Python 3",
   "language": "python",
   "name": "python3"
  },
  "language_info": {
   "codemirror_mode": {
    "name": "ipython",
    "version": 3
   },
   "file_extension": ".py",
   "mimetype": "text/x-python",
   "name": "python",
   "nbconvert_exporter": "python",
   "pygments_lexer": "ipython3",
   "version": "3.6.3"
  }
 },
 "nbformat": 4,
 "nbformat_minor": 2
}
